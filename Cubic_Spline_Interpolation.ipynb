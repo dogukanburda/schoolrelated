{
 "cells": [
  {
   "cell_type": "markdown",
   "metadata": {},
   "source": [
    " - **Osman Dogukan Kefeli** \n",
    " - *090170119*\n"
   ]
  },
  {
   "cell_type": "markdown",
   "metadata": {},
   "source": [
    "## Cubic Spline Interpolation"
   ]
  },
  {
   "cell_type": "code",
   "execution_count": 118,
   "metadata": {},
   "outputs": [
    {
     "data": {
      "image/png": "[encoded data removed]",
      "text/plain": [
       "<Figure size 432x288 with 1 Axes>"
      ]
     },
     "metadata": {},
     "output_type": "display_data"
    }
   ],
   "source": [
    "import matplotlib.pyplot as plt\n",
    "import numpy as np\n",
    "plt.style.use(\"ggplot\")\n",
    "plt.plot(range(3),[1,3,2],color='red',markerfacecolor=\"orange\",marker=\"o\", label=\"Linear interp\")\n",
    "plt.plot(x[:500],S1[:500],c='orange',label=\"Cubic interp\")\n",
    "plt.plot(x[500:],S2[500:],c='orange')\n",
    "\n",
    "plt.legend()\n",
    "plt.xlim((-0.3,2.3)); #\";\" reminded from old matlab memories :)\n",
    "plt.ylim((0,4)); #\";\" reminded from old matlab memories :)\n",
    "plt.xticks([0, 1, 2], ['$x_0$', '$x_1$','$x_2$']);"
   ]
  },
  {
   "cell_type": "markdown",
   "metadata": {},
   "source": [
    "Assume we have n points to interpolate"
   ]
  },
  {
   "cell_type": "markdown",
   "metadata": {},
   "source": [
    "Cubic Spline Interpolation fits individual functions for every adjacent points."
   ]
  },
  {
   "cell_type": "markdown",
   "metadata": {},
   "source": [
    "And all the function must satisfy boundary conditions."
   ]
  },
  {
   "cell_type": "markdown",
   "metadata": {},
   "source": [
    "General function for Cubic Spline is <br><br>\n",
    "$S_j(x)=a_jx_1^3+b_jx_1^2+c_jx_1+d_j$ a 3rd order polynomial"
   ]
  },
  {
   "cell_type": "markdown",
   "metadata": {},
   "source": [
    "for example j=1 $S_1(x)=a_1x_1^3+b_1x_1^2+c_1x_1+d_1$"
   ]
  },
  {
   "cell_type": "markdown",
   "metadata": {},
   "source": [
    "this function must satisfy its adjacent $x$ point which is $x_2$"
   ]
  },
  {
   "cell_type": "markdown",
   "metadata": {},
   "source": [
    "$S_0(x_1)=S_1(x_1)$  and first and second derivates must satisfy boundary conditions "
   ]
  },
  {
   "cell_type": "markdown",
   "metadata": {},
   "source": [
    "$S_0^{'}(x_1)=S_1^{'}(x_1)$ <br> $S_0^{''}(x_1)=S_1^{''}(x_1)$"
   ]
  },
  {
   "cell_type": "markdown",
   "metadata": {},
   "source": [
    "with this situation our job is to calculate coefficients using Python"
   ]
  },
  {
   "cell_type": "markdown",
   "metadata": {},
   "source": [
    "Let us construct a matrix for solutions $S_i(x_i)=y_i$"
   ]
  },
  {
   "cell_type": "markdown",
   "metadata": {},
   "source": [
    "\\begin{array}{rrrrr}\n",
    "a_1 x_1^3 + & b_1 x_1^2 +  & c_1 x_1 +  & d_1 = &y_1,\\\\ \n",
    "a_2 x_2^3 + & b_2 x_2^2 +  & c_2 x_2 +  & d_2 = &y_2,\\\\ \n",
    "\\cdots\\\\ \n",
    "a_{n-1} x_{n-1}^3 + &b_{n-1} x_{n-1}^2 + &c_{n-1} x_{n-1} +& d_{n-1} =& y_{n-1}.\n",
    "\\end{array}"
   ]
  },
  {
   "cell_type": "markdown",
   "metadata": {},
   "source": [
    "Second matrix for the boundary condition. Function must satisfy next point"
   ]
  },
  {
   "cell_type": "markdown",
   "metadata": {},
   "source": [
    "\\begin{array}{rrrrr}\n",
    "a_1 x_2^3 +&b_1 x_2^2 +&c_1 x_2 +&d_1 =& y_2,\\\\ \n",
    "a_2 x_3^3 +&b_2 x_3^2 +&c_2 x_3 +&d_2 =& y_3,\\\\\n",
    "&&\\cdots\\\\\n",
    "a_{n-1} x_{n}^3 +&b_{n-1} x_{n}^2 +&c_{n-1} x_{n} +&d_{n-1} =& y_{n}.\n",
    "\\end{array}"
   ]
  },
  {
   "cell_type": "markdown",
   "metadata": {},
   "source": [
    "And their first derrivatives must satisfy... $S^{\\prime}_j(x_{j+1}) = S^{\\prime}_{j+1}(x_{j+1})$"
   ]
  },
  {
   "cell_type": "markdown",
   "metadata": {},
   "source": [
    "\\begin{array}{rrrrrr}\n",
    "3a_1 x_2^2 +&2b_1 x_2 +&c_1 - &3a_2 x_2^2 - &2b_2 x_2 - &c_2 =0,\\\\ \n",
    "3a_2 x_3^2 +&2b_2 x_3 +&c_2 -& 3a_3 x_3^2 -& 2b_3 x_3 -& c_3 =0,\\\\ \n",
    "&&&\\cdots&&,\\\\\n",
    "3a_{n-2} x_{n-1}^2 +&2b_{n-2} x_{n-1} +&c_{n-2} -& 3a_{n-1} x_{n-1}^2 -& 2b_{n-1} x_{n-1} -& c_{n-1} =0.\n",
    "\\end{array}"
   ]
  },
  {
   "cell_type": "markdown",
   "metadata": {},
   "source": [
    "Also second derrivatives $S^{\\prime\\prime}_j(x_{j+1}) = S^{\\prime\\prime}_{j+1}(x_{j+1})$"
   ]
  },
  {
   "cell_type": "markdown",
   "metadata": {},
   "source": [
    "\\begin{split}\n",
    "\\begin{array}{rrrrrr}\n",
    "6a_1 x_2 +& 2b_1 -& 6a_2 x_2 -& 2b_2 =& 0,\\\\\n",
    "6a_2 x_3 +& 2b_2 -& 6a_3 x_3 -& 2b_3 =& 0,\\\\\n",
    "+&&\\ldots -& \\\\\n",
    "6a_{n-2} x_{n-1} +& 2b_{n-2} -& 6a_{n-1} x_{n-1} -& 2b_{n-1} =& 0.\n",
    "\\end{array}\n",
    "\\end{split}"
   ]
  },
  {
   "cell_type": "markdown",
   "metadata": {},
   "source": [
    "Finally for the endpoint constraints $S''_1(x_1) = 0$ and $S''_{n−1}(x_n)=0$ we"
   ]
  },
  {
   "cell_type": "markdown",
   "metadata": {},
   "source": [
    "\\begin{array}{rr}\n",
    "6a_1 x_1 +& 2b_1 = 0,\\\\\n",
    "6a_{n-1} x_n +&2b_{n-1} = 0.\n",
    "\\end{array}\n",
    "\n"
   ]
  },
  {
   "cell_type": "markdown",
   "metadata": {},
   "source": [
    "$\\left[\\begin{array}{llllllll}\n",
    "0 & 0 & 0 & 1 & 0 & 0 & 0 & 0\\\\\n",
    "0 & 0 & 0 & 0 & 1 & 1 & 1 & 1\\\\\n",
    "1 & 1 & 1 & 1 & 0 & 0 & 0 & 0\\\\\n",
    "0 & 0 & 0 & 0 & 8 & 4 & 2 & 1\\\\\n",
    "3 & 2 & 1 & 0 & -3 & -2 & -1 & 0\\\\\n",
    "6 & 2 & 0 & 0 & -6 & -2 & 0 & 0\\\\\n",
    "0 & 2 & 0 & 0 & 0 & 0 & 0 & 0\\\\\n",
    "0 & 0 & 0 & 0 & 12 & 2 & 0 & 0\n",
    "\\end{array}\\right]\n",
    "\\left[\\begin{array}{c}\n",
    "a_1 \\\\\n",
    "b_1 \\\\\n",
    "c_1 \\\\\n",
    "d_1 \\\\\n",
    "a_2 \\\\\n",
    "b_2 \\\\\n",
    "c_2 \\\\\n",
    "d_2\n",
    "\\end{array}\\right] =\n",
    "\\left[\\begin{array}{c}\n",
    "1 \\\\\n",
    "3 \\\\\n",
    "3 \\\\\n",
    "2 \\\\\n",
    "0 \\\\\n",
    "0 \\\\\n",
    "0 \\\\\n",
    "0 \\end{array}\\right]$"
   ]
  },
  {
   "cell_type": "code",
   "execution_count": 95,
   "metadata": {},
   "outputs": [
    {
     "data": {
      "text/plain": [
       "(array([[ 0,  0,  0,  1,  0,  0,  0,  0],\n",
       "        [ 0,  0,  0,  0,  1,  1,  1,  1],\n",
       "        [ 1,  1,  1,  1,  0,  0,  0,  0],\n",
       "        [ 0,  0,  0,  0,  8,  4,  2,  1],\n",
       "        [ 3,  2,  1,  0, -3, -2, -1,  0],\n",
       "        [ 6,  2,  0,  0, -6, -2,  0,  0],\n",
       "        [ 0,  2,  0,  0,  0,  0,  0,  0],\n",
       "        [ 0,  0,  0,  0, 12,  2,  0,  0]]),\n",
       " array([[1],\n",
       "        [3],\n",
       "        [3],\n",
       "        [2],\n",
       "        [0],\n",
       "        [0],\n",
       "        [0],\n",
       "        [0]]))"
      ]
     },
     "execution_count": 95,
     "metadata": {},
     "output_type": "execute_result"
    }
   ],
   "source": [
    "b = np.array([1, 3, 3, 2, 0, 0, 0, 0]).reshape(-1,1)\n",
    "A = np.array([[0, 0, 0, 1, 0, 0, 0, 0], \n",
    "              [0, 0, 0, 0, 1, 1, 1, 1], \n",
    "              [1, 1, 1, 1, 0, 0, 0, 0],\n",
    "              [0, 0, 0, 0, 8, 4, 2, 1], \n",
    "              [3, 2, 1, 0, -3, -2, -1, 0], \n",
    "              [6, 2, 0, 0, -6, -2, 0, 0],\n",
    "              [0, 2, 0, 0, 0, 0, 0, 0], \n",
    "              [0, 0, 0, 0, 12, 2, 0, 0]])\n",
    "A,b"
   ]
  },
  {
   "cell_type": "code",
   "execution_count": 101,
   "metadata": {},
   "outputs": [
    {
     "data": {
      "text/plain": [
       "array([-0.75,  0.  ,  2.75,  1.  ,  0.75, -4.5 ,  7.25, -0.5 ])"
      ]
     },
     "execution_count": 101,
     "metadata": {},
     "output_type": "execute_result"
    }
   ],
   "source": [
    "Coeffs = np.dot(np.linalg.inv(A), b)\n",
    "Coeffs=Coeffs.reshape(1,-1)[0]\n",
    "Coeffs"
   ]
  },
  {
   "cell_type": "markdown",
   "metadata": {},
   "source": [
    "\\begin{eqnarray*}\n",
    "S_1(x) &=& -.75x^3 + 2.75x + 1, \\quad  for \\quad 0 \\le x \\le 1\\ and\\\\\n",
    "S_2(x) &=& .75x^3 - 4.5x^2 + 7.25x - .5, \\quad  for  \\quad 1 \\le x \\le 2\n",
    "\\end{eqnarray*}"
   ]
  },
  {
   "cell_type": "code",
   "execution_count": 112,
   "metadata": {},
   "outputs": [],
   "source": [
    "x=np.linspace(-1,3,1000)\n",
    "S1=Coeffs[0]*x**3+Coeffs[2]*x+Coeffs[3]\n",
    "S2=Coeffs[4]*x**3+Coeffs[5]*x**2+Coeffs[6]*x+Coeffs[7]"
   ]
  },
  {
   "cell_type": "markdown",
   "metadata": {},
   "source": [
    "From now on we can evaluate any value between $x_0$ to $x_2$"
   ]
  },
  {
   "cell_type": "markdown",
   "metadata": {},
   "source": [
    "For example lets calculate $ x=1.5$ <br>$S_2(1.5)=2.78125$"
   ]
  },
  {
   "cell_type": "code",
   "execution_count": 103,
   "metadata": {},
   "outputs": [
    {
     "data": {
      "text/plain": [
       "2.78125"
      ]
     },
     "execution_count": 103,
     "metadata": {},
     "output_type": "execute_result"
    }
   ],
   "source": [
    "x=1.5\n",
    "S2=Coeffs[4]*x**3+Coeffs[5]*x**2+Coeffs[6]*x+Coeffs[7]\n",
    "S2"
   ]
  }
 ],
 "metadata": {
  "kernelspec": {
   "display_name": "Python 3",
   "language": "python",
   "name": "python3"
  },
  "language_info": {
   "codemirror_mode": {
    "name": "ipython",
    "version": 3
   },
   "file_extension": ".py",
   "mimetype": "text/x-python",
   "name": "python",
   "nbconvert_exporter": "python",
   "pygments_lexer": "ipython3",
   "version": "3.8.5"
  }
 },
 "nbformat": 4,
 "nbformat_minor": 4
}
