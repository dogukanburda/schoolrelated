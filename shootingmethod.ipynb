{
 "cells": [
  {
   "cell_type": "markdown",
   "metadata": {},
   "source": [
    " - **Osman Dogukan Kefeli** \n",
    " - *090170119*"
   ]
  },
  {
   "cell_type": "markdown",
   "metadata": {},
   "source": [
    "## Shooting Method"
   ]
  },
  {
   "cell_type": "markdown",
   "metadata": {},
   "source": [
    "Shooting Method for Solving Differential Equations"
   ]
  },
  {
   "cell_type": "markdown",
   "metadata": {},
   "source": [
    "The shooting method developed for changing ODE boundary value problems to equivalent inital value problems."
   ]
  },
  {
   "cell_type": "markdown",
   "metadata": {},
   "source": [
    "<img src=\"https://pythonnumericalmethods.berkeley.edu/_images/23.02.01-shooting.png\">"
   ]
  },
  {
   "cell_type": "markdown",
   "metadata": {},
   "source": [
    "We shoot the target and observe where it hits the target, based on the errors, we can adjust our aim and shoot again in the hope that it will hit close to the target."
   ]
  },
  {
   "cell_type": "markdown",
   "metadata": {},
   "source": [
    "Let us try it with a rocket problem where it is launched at the ground and solve it for general altitude $y(t)$.\n",
    "We know the acting forces upon the rocket, we can write the equation of motion in differential equation form.\n",
    "$$\\frac{d^2y}{dt^2} = -g$$\n",
    "#### If we want to have the rocket at 50 m off the ground after 5 seconds after launching, what should be the velocity at launching? "
   ]
  },
  {
   "cell_type": "markdown",
   "metadata": {},
   "source": [
    "With boundary conditions $y (0)=0$ and $y (5)=50$; we want to find $y'(0)$ at the launching."
   ]
  },
  {
   "cell_type": "markdown",
   "metadata": {},
   "source": [
    "Reducing the order of the function."
   ]
  },
  {
   "cell_type": "markdown",
   "metadata": {},
   "source": [
    "$$\\frac{dy}{dt} = v$$\n",
    "\\\n",
    "\\\n",
    "$$\\frac{dv}{dt} = -g$$"
   ]
  },
  {
   "cell_type": "markdown",
   "metadata": {},
   "source": [
    "Construct a vector $S$ where\n",
    "$$S(t) = \\left[\\begin{array}{c} y(t) \\\\v(t) \\end{array}\\right]$$"
   ]
  },
  {
   "cell_type": "markdown",
   "metadata": {},
   "source": [
    "Now let us start guessing"
   ]
  },
  {
   "cell_type": "code",
   "execution_count": 1,
   "metadata": {},
   "outputs": [],
   "source": [
    "import numpy as np\n",
    "import matplotlib.pyplot as plt\n",
    "from scipy.integrate import solve_ivp\n",
    "\n",
    "plt.style.use('ggplot')"
   ]
  },
  {
   "cell_type": "code",
   "execution_count": 2,
   "metadata": {},
   "outputs": [
    {
     "data": {
      "image/png": "[encoded data removed]",
      "text/plain": [
       "<Figure size 720x576 with 1 Axes>"
      ]
     },
     "metadata": {},
     "output_type": "display_data"
    }
   ],
   "source": [
    "def ffunction(t,s):\n",
    "    return np.dot(np.array([[0,1],[0,-9.8/s[1]]]),s)\n",
    "t_span = np.linspace(0, 5, 100)\n",
    "y0 = 0\n",
    "v0 = 35\n",
    "t_eval = np.linspace(0, 5, 10)\n",
    "sol = solve_ivp(ffunction, [0, 5], \\\n",
    "                [y0, v0], t_eval = t_eval)\n",
    "\n",
    "plt.figure(figsize = (10, 8))\n",
    "plt.plot(sol.t, sol.y[0])\n",
    "plt.plot(5, 50, 'ro')\n",
    "plt.xlabel('time (s)')\n",
    "plt.xlim(-0.5,5.5)\n",
    "plt.ylabel('altitude (m)')\n",
    "plt.title(f'First guess v={v0} m/s')\n",
    "plt.show()"
   ]
  },
  {
   "cell_type": "code",
   "execution_count": 4,
   "metadata": {},
   "outputs": [
    {
     "name": "stdout",
     "output_type": "stream",
     "text": [
      "34.49999999999999\n"
     ]
    }
   ],
   "source": [
    "from scipy.optimize import fsolve\n",
    "\n",
    "def objective(v0):\n",
    "    sol = solve_ivp(ffunction, [0, 5],[y0, v0], t_eval = t_eval)\n",
    "    y = sol.y[0]\n",
    "    return y[-1] - 50\n",
    "\n",
    "v0, = fsolve(objective, 10)\n",
    "print(v0)"
   ]
  },
  {
   "cell_type": "code",
   "execution_count": null,
   "metadata": {},
   "outputs": [],
   "source": []
  }
 ],
 "metadata": {
  "kernelspec": {
   "display_name": "Python 3",
   "language": "python",
   "name": "python3"
  },
  "language_info": {
   "codemirror_mode": {
    "name": "ipython",
    "version": 3
   },
   "file_extension": ".py",
   "mimetype": "text/x-python",
   "name": "python",
   "nbconvert_exporter": "python",
   "pygments_lexer": "ipython3",
   "version": "3.8.5"
  }
 },
 "nbformat": 4,
 "nbformat_minor": 4
}
