{
 "cells": [
  {
   "cell_type": "markdown",
   "metadata": {},
   "source": [
    " - **Osman Dogukan Kefeli** \n",
    " - *090170119*\n"
   ]
  },
  {
   "cell_type": "markdown",
   "metadata": {},
   "source": [
    "## QR Algorithm"
   ]
  },
  {
   "cell_type": "markdown",
   "metadata": {},
   "source": [
    "    QR algorithm or QR iteration is an eigenvalue algorithm: that is, a procedure to calculate the eigenvalues and eigenvectors of a matrix."
   ]
  },
  {
   "cell_type": "markdown",
   "metadata": {},
   "source": [
    "   For a square matrix $A$, QR Decomposition converts $A$ into the products of two matrices. <br>\n",
    "An orthogonal matrix $Q$ and a upper triangular matrix $R$."
   ]
  },
  {
   "cell_type": "markdown",
   "metadata": {},
   "source": [
    "\\begin{eqnarray*}\n",
    "A = QR\n",
    "\\end{eqnarray*}"
   ]
  },
  {
   "cell_type": "markdown",
   "metadata": {},
   "source": [
    "Let $A_0 :=A$ At the $k^{th}$ step we compute QR Decomposition $A_k=Q_kR_k$"
   ]
  },
  {
   "cell_type": "markdown",
   "metadata": {},
   "source": [
    "$$A_{k+1}=R_kQ_k=Q_k^{-1}Q_kR_kQ_k=Q_k^{-1}A_kQ_k=Q_k^{T}A_kQ_k    $$"
   ]
  },
  {
   "cell_type": "markdown",
   "metadata": {},
   "source": [
    "All the $A_k$ are similar hence they have same $eigenvalues$."
   ]
  },
  {
   "cell_type": "code",
   "execution_count": 1,
   "metadata": {},
   "outputs": [],
   "source": [
    "import numpy as np\n",
    "A = np.array([[12, -51, 4], [6, 167, -68], [-4, 24, -41]])"
   ]
  },
  {
   "cell_type": "code",
   "execution_count": 2,
   "metadata": {},
   "outputs": [
    {
     "data": {
      "text/plain": [
       "(array([[ 12, -51,   4],\n",
       "        [  6, 167, -68],\n",
       "        [ -4,  24, -41]]),\n",
       " array([[ 0.85714286, -0.39466607, -0.34174306],\n",
       "        [ 0.42857143,  0.90372809,  0.        ],\n",
       "        [-0.28571429,  0.16587414, -0.93979342]]),\n",
       " array([[ 14.        ,  21.        , -14.        ],\n",
       "        [  0.        , 174.8313473 , -69.41546918],\n",
       "        [  0.        ,   0.        ,  35.11409973]]))"
      ]
     },
     "execution_count": 2,
     "metadata": {},
     "output_type": "execute_result"
    }
   ],
   "source": [
    "\n",
    "\n",
    "def gs_m(A):\n",
    "\n",
    "    m,n= A.shape\n",
    "    A= A.copy()\n",
    "    Q= np.zeros((m,n))\n",
    "    R= np.zeros((n,n))\n",
    "\n",
    "    for k in range(n):\n",
    "\n",
    "        R[k,k]= np.linalg.norm(A[:,k:k+1].reshape(-1),2)\n",
    "        Q[:,k:k+1]= A[:,k:k+1]/R[k,k]\n",
    "        R[k:k+1,k+1:n+1]= np.dot( Q[:,k:k+1].T, A[:,k+1:n+1] )\n",
    "        A[:,k+1:n+1]= A[:, k+1:n+1] - np.dot( Q[:,k:k+1], R[k:k+1,k+1:n+1])\n",
    "\n",
    "\n",
    "    return Q, R\n",
    "Q,R=gs_m(A)\n",
    "A,Q,R"
   ]
  }
 ],
 "metadata": {
  "kernelspec": {
   "display_name": "Python 3",
   "language": "python",
   "name": "python3"
  },
  "language_info": {
   "codemirror_mode": {
    "name": "ipython",
    "version": 3
   },
   "file_extension": ".py",
   "mimetype": "text/x-python",
   "name": "python",
   "nbconvert_exporter": "python",
   "pygments_lexer": "ipython3",
   "version": "3.8.5"
  }
 },
 "nbformat": 4,
 "nbformat_minor": 5
}
