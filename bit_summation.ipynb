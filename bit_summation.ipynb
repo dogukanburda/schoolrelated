{
 "cells": [
  {
   "cell_type": "code",
   "execution_count": 1,
   "metadata": {},
   "outputs": [],
   "source": [
    "import numpy as np"
   ]
  },
  {
   "cell_type": "code",
   "execution_count": 72,
   "metadata": {},
   "outputs": [],
   "source": [
    "a = np.array([np.random.randint(2) for _ in range(8)])\n",
    "b = np.array([np.random.randint(2) for _ in range(8)])"
   ]
  },
  {
   "cell_type": "code",
   "execution_count": 73,
   "metadata": {},
   "outputs": [
    {
     "name": "stdout",
     "output_type": "stream",
     "text": [
      "[0 0 0 1 1 0 1 1]\n",
      "[1 1 0 1 1 1 1 0]\n"
     ]
    }
   ],
   "source": [
    "print(a)\n",
    "print(b)"
   ]
  },
  {
   "cell_type": "code",
   "execution_count": 92,
   "metadata": {},
   "outputs": [],
   "source": [
    "a = np.array([1,0,1,0,1])\n",
    "b = np.array([1,1,1,0,0])"
   ]
  },
  {
   "cell_type": "code",
   "execution_count": 93,
   "metadata": {},
   "outputs": [
    {
     "name": "stdout",
     "output_type": "stream",
     "text": [
      "i:  4 c:  [1. 0. 0. 0. 1.] memory: True\n"
     ]
    }
   ],
   "source": [
    "n=len(a)\n",
    "c=np.zeros(n)\n",
    "#n=8\n",
    "memory = False\n",
    "for i in range(n):\n",
    "    if memory==True:\n",
    "        c[n-1-i]=a[n-1-i]+b[n-1-i]+1\n",
    "    else:\n",
    "        c[n-1-i]=a[n-1-i]+b[n-1-i]    \n",
    "    if c[n-1-i]==2:\n",
    "        c[n-1-i]=0\n",
    "        memory = True\n",
    "    elif c[n-1-i]==3:\n",
    "        c[n-1-i]=1\n",
    "        memory = True\n",
    "    else:\n",
    "        memory = False\n",
    "    if (i == n-1) & (c[0]==1):\n",
    "        print(\"i: \",i,\"c: \",c,\"memory:\",memory)\n",
    "        if memory == True:\n",
    "            c= np.insert(c,0,1)"
   ]
  },
  {
   "cell_type": "code",
   "execution_count": 94,
   "metadata": {},
   "outputs": [
    {
     "name": "stdout",
     "output_type": "stream",
     "text": [
      "[1 0 1 0 1]\n",
      "[1 1 1 0 0]\n",
      "--------------------\n",
      "[1 1 0 0 0 1]\n"
     ]
    }
   ],
   "source": [
    "print(a)\n",
    "print(b)\n",
    "print(\"-\"*20)\n",
    "print(np.array([int(x) for x in c]))"
   ]
  },
  {
   "cell_type": "code",
   "execution_count": null,
   "metadata": {},
   "outputs": [],
   "source": []
  }
 ],
 "metadata": {
  "kernelspec": {
   "display_name": "Python 3",
   "language": "python",
   "name": "python3"
  },
  "language_info": {
   "codemirror_mode": {
    "name": "ipython",
    "version": 3
   },
   "file_extension": ".py",
   "mimetype": "text/x-python",
   "name": "python",
   "nbconvert_exporter": "python",
   "pygments_lexer": "ipython3",
   "version": "3.8.5"
  }
 },
 "nbformat": 4,
 "nbformat_minor": 4
}
