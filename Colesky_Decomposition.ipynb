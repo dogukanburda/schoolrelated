{
 "cells": [
  {
   "cell_type": "markdown",
   "metadata": {},
   "source": [
    " - **Osman Dogukan Kefeli** \n",
    " - *090170119*\n"
   ]
  },
  {
   "cell_type": "markdown",
   "metadata": {},
   "source": [
    "Cholesky Decomposition"
   ]
  },
  {
   "cell_type": "markdown",
   "metadata": {},
   "source": [
    "We're trying to write the Matrix\n",
    "$A= \\begin{bmatrix} 4 & 12 & -16 \\\\ 12 & 37 & -43 \\\\ -16 & -43 & 95 \\end{bmatrix}$"
   ]
  },
  {
   "cell_type": "markdown",
   "metadata": {},
   "source": [
    "as $LxL^T$"
   ]
  },
  {
   "cell_type": "markdown",
   "metadata": {},
   "source": [
    "Elements of Matrices $L$ and $L^T$ can be written as"
   ]
  },
  {
   "cell_type": "markdown",
   "metadata": {},
   "source": [
    "$L=\\begin{bmatrix} l_{11} & 0 & 0 \\\\ l_{21} & l_{22} & 0 \\\\ l_{31} & l_{32} & l_{33} \\end{bmatrix}$  <br /><br />      and <br /><br />\n",
    "$L^T= \\begin{bmatrix} l_{11} & l_{21} & l_{31} \\\\ 0 & l_{22} & l_{32} \\\\ 0 & 0 & l_{33} \\end{bmatrix} $"
   ]
  },
  {
   "cell_type": "markdown",
   "metadata": {},
   "source": [
    "By multiplying first row of $L$ and first column of $L^T$"
   ]
  },
  {
   "cell_type": "markdown",
   "metadata": {},
   "source": [
    "${l_{11}}^2 = 4 $ , $l_{11}=2$"
   ]
  },
  {
   "cell_type": "markdown",
   "metadata": {},
   "source": [
    "Continuing for other elements,"
   ]
  },
  {
   "cell_type": "markdown",
   "metadata": {},
   "source": [
    "$l_{11}*l_{21}+0*l_{22} = 12$ $=>$ $l_{21}=6$  and so forth..."
   ]
  },
  {
   "cell_type": "markdown",
   "metadata": {},
   "source": [
    "Generalized formula for elements is"
   ]
  },
  {
   "cell_type": "markdown",
   "metadata": {},
   "source": [
    "\\begin{eqnarray*}\n",
    "l_{kk} &=& \\sqrt{ a_{kk} - \\sum^{k-1}_{j=1} l^2_{kj}}\\\\\n",
    "l_{ik} &=& \\frac{1}{l_{kk}} \\left( a_{ik} - \\sum^{k-1}_{j=1} l_{ij} l_{kj} \\right), i > k\n",
    "\\end{eqnarray*}"
   ]
  },
  {
   "cell_type": "markdown",
   "metadata": {},
   "source": [
    "Computing with Python3"
   ]
  },
  {
   "cell_type": "code",
   "execution_count": 1,
   "metadata": {},
   "outputs": [
    {
     "name": "stdout",
     "output_type": "stream",
     "text": [
      "A:\n",
      "[[  4  12 -16]\n",
      " [ 12  37 -43]\n",
      " [-16 -43  98]]\n",
      "Lower triangular\n",
      "[[ 2.  0.  0.]\n",
      " [ 6.  1.  0.]\n",
      " [-8.  5.  3.]]\n",
      "Transpose of Lower triangular\n",
      "[[ 2.  6. -8.]\n",
      " [ 0.  1.  5.]\n",
      " [ 0.  0.  3.]]\n"
     ]
    }
   ],
   "source": [
    "from math import sqrt\n",
    "import numpy as np\n",
    " \n",
    "def cholesky(A):\n",
    "    n = len(A)\n",
    "\n",
    "    # Initiate a zero matrix for L\n",
    "    L = np.zeros((n,n))\n",
    "\n",
    "\n",
    "    for i in range(n):\n",
    "        for k in range(i+1):\n",
    "            tmp_sum = sum(L[i][j] * L[k][j] for j in range(k))\n",
    "            \n",
    "            if (i == k): # Diagonal elements\n",
    "                L[i][k] = sqrt(A[i][i] - tmp_sum)\n",
    "            else:\n",
    "                L[i][k] = (1.0 / L[k][k] * (A[i][k] - tmp_sum))\n",
    "    return L\n",
    " \n",
    "A = np.array([[4, 12, -16],[12, 37, -43],[-16, -43, 98]])\n",
    "L = cholesky(A)\n",
    "print(\"A:\");\n",
    "print(A)\n",
    "print(\"Lower triangular\")\n",
    "print(L)\n",
    "print(\"Transpose of Lower triangular\")\n",
    "print(L.T)\n"
   ]
  }
 ],
 "metadata": {
  "kernelspec": {
   "display_name": "Python 3",
   "language": "python",
   "name": "python3"
  },
  "language_info": {
   "codemirror_mode": {
    "name": "ipython",
    "version": 3
   },
   "file_extension": ".py",
   "mimetype": "text/x-python",
   "name": "python",
   "nbconvert_exporter": "python",
   "pygments_lexer": "ipython3",
   "version": "3.8.5"
  }
 },
 "nbformat": 4,
 "nbformat_minor": 4
}
