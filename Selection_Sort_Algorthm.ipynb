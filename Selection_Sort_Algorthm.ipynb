{
 "cells": [
  {
   "cell_type": "markdown",
   "metadata": {},
   "source": [
    " - **Osman Dogukan Kefeli** \n",
    " - *090170119*"
   ]
  },
  {
   "cell_type": "markdown",
   "metadata": {},
   "source": [
    "## Selection Sort Algorithm"
   ]
  },
  {
   "cell_type": "markdown",
   "metadata": {},
   "source": [
    "<par>Selection sort finds the minimum value in the array and swaps it with the first element.<br> Since the first value of the array is known to be the minimum, algorithm neglects the first index and iterates for other elements in the list.<par/>"
   ]
  },
  {
   "cell_type": "markdown",
   "metadata": {},
   "source": [
    "### Big-O\n",
    "Worst case of this scenario it compares n times in the first iteration, n-1 times in the second and so on <br>\n",
    "$$\n",
    "\\frac{n\\cdot(n-1)}{2}\n",
    "$$\n",
    "which is complexity $O(n^2)$\n",
    "<br>\n",
    "In the best case the array is already sorted and still needs to compare $i^{th}$ element with the $n-i-1$ elements. <br>Complexity of the operation still shown as $O(n^2)$"
   ]
  },
  {
   "cell_type": "markdown",
   "metadata": {},
   "source": [
    "implementation of selection sort"
   ]
  },
  {
   "cell_type": "markdown",
   "metadata": {},
   "source": [
    "giving it a numpy array"
   ]
  },
  {
   "cell_type": "code",
   "execution_count": 28,
   "metadata": {},
   "outputs": [
    {
     "name": "stdout",
     "output_type": "stream",
     "text": [
      "92.5 µs ± 2.44 µs per loop (mean ± std. dev. of 7 runs, 10000 loops each)\n"
     ]
    }
   ],
   "source": [
    "%%timeit\n",
    "import numpy as np\n",
    "array =np.arange(21)[::-1]            #giving it the worst case a descending array\n",
    "for i in range(len(array)):\n",
    "    start_index = i                         #starts from i th elemnt to end of the list\n",
    "    for j in range(i+1,len(array)):         #compares other elements with the current selection\n",
    "        if array[j]<array[start_index]:   #if compared value is smaller swaps it\n",
    "            start_index = j\n",
    "    array[i],array[start_index] = array[start_index],array[i]  #swapping made in one line for convenience"
   ]
  },
  {
   "cell_type": "markdown",
   "metadata": {},
   "source": [
    "giving it a native python list"
   ]
  },
  {
   "cell_type": "code",
   "execution_count": 39,
   "metadata": {},
   "outputs": [
    {
     "name": "stdout",
     "output_type": "stream",
     "text": [
      "28.1 µs ± 998 ns per loop (mean ± std. dev. of 7 runs, 10000 loops each)\n"
     ]
    }
   ],
   "source": [
    "%%timeit\n",
    "import numpy as np\n",
    "array = np.arange(21)[::-1].tolist()            #giving it the worst case a descending array\n",
    "for i in range(len(array)):\n",
    "    start_index = i                         #starts from i th elemnt to end of the list\n",
    "    for j in range(i+1,len(array)):         #compares other elements with the current selection\n",
    "        if array[j]<array[start_index]:   #if compared value is smaller swaps it\n",
    "            start_index = j\n",
    "    array[i],array[start_index] = array[start_index],array[i]  #swapping made in one line for convenience"
   ]
  },
  {
   "cell_type": "code",
   "execution_count": 38,
   "metadata": {},
   "outputs": [
    {
     "data": {
      "text/plain": [
       "[0, 1, 2, 3, 4, 5, 6, 7, 8, 9, 10, 11, 12, 13, 14, 15, 16, 17, 18, 19, 20]"
      ]
     },
     "execution_count": 38,
     "metadata": {},
     "output_type": "execute_result"
    }
   ],
   "source": [
    "array"
   ]
  },
  {
   "cell_type": "markdown",
   "metadata": {},
   "source": [
    "Comparing with numpy's sort function that uses quicksort as default ref:https://numpy.org/doc/stable/reference/generated/numpy.sort.html"
   ]
  },
  {
   "cell_type": "code",
   "execution_count": 48,
   "metadata": {},
   "outputs": [
    {
     "data": {
      "text/plain": [
       "array([20, 19, 18, 17, 16, 15, 14, 13, 12, 11, 10,  9,  8,  7,  6,  5,  4,\n",
       "        3,  2,  1,  0])"
      ]
     },
     "execution_count": 48,
     "metadata": {},
     "output_type": "execute_result"
    }
   ],
   "source": [
    "array = np.arange(21)[::-1]         \n",
    "array                        #still givin it the worst case"
   ]
  },
  {
   "cell_type": "code",
   "execution_count": 49,
   "metadata": {},
   "outputs": [
    {
     "name": "stdout",
     "output_type": "stream",
     "text": [
      "2.58 µs ± 122 ns per loop (mean ± std. dev. of 7 runs, 100000 loops each)\n"
     ]
    }
   ],
   "source": [
    "%timeit np.sort(array)"
   ]
  },
  {
   "cell_type": "markdown",
   "metadata": {},
   "source": [
    "With selection sort algorithm using native python list made it $3.3x$ times faster.<br>\n",
    "Although not as fast as numpy's included sort function which was more than $10x$ times faster with respect to the manual written code"
   ]
  }
 ],
 "metadata": {
  "kernelspec": {
   "display_name": "Python 3",
   "language": "python",
   "name": "python3"
  },
  "language_info": {
   "codemirror_mode": {
    "name": "ipython",
    "version": 3
   },
   "file_extension": ".py",
   "mimetype": "text/x-python",
   "name": "python",
   "nbconvert_exporter": "python",
   "pygments_lexer": "ipython3",
   "version": "3.8.5"
  }
 },
 "nbformat": 4,
 "nbformat_minor": 4
}
